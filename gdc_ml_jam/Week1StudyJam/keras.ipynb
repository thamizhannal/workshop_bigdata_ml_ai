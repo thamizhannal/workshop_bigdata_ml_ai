{
 "cells": [
  {
   "cell_type": "code",
   "execution_count": 1,
   "metadata": {
    "collapsed": true
   },
   "outputs": [],
   "source": [
    "import numpy as np \n",
    "import pandas as pd \n",
    "from sklearn.model_selection import train_test_split\n",
    "from sklearn import preprocessing\n",
    "import matplotlib.pyplot as plt \n",
    "%matplotlib inline\n",
    "from sklearn import metrics"
   ]
  },
  {
   "cell_type": "markdown",
   "metadata": {},
   "source": [
    "## Load Titanic data set"
   ]
  },
  {
   "cell_type": "code",
   "execution_count": 2,
   "metadata": {
    "collapsed": true
   },
   "outputs": [],
   "source": [
    "train_df = pd.read_csv(\"titanic-train.csv\")"
   ]
  },
  {
   "cell_type": "code",
   "execution_count": 3,
   "metadata": {},
   "outputs": [
    {
     "name": "stdout",
     "output_type": "stream",
     "text": [
      "dataset shape: (891, 12)\n"
     ]
    }
   ],
   "source": [
    "print(\"dataset shape:\",train_df.shape)"
   ]
  },
  {
   "cell_type": "code",
   "execution_count": 4,
   "metadata": {},
   "outputs": [
    {
     "data": {
      "text/html": [
       "<div>\n",
       "<style scoped>\n",
       "    .dataframe tbody tr th:only-of-type {\n",
       "        vertical-align: middle;\n",
       "    }\n",
       "\n",
       "    .dataframe tbody tr th {\n",
       "        vertical-align: top;\n",
       "    }\n",
       "\n",
       "    .dataframe thead th {\n",
       "        text-align: right;\n",
       "    }\n",
       "</style>\n",
       "<table border=\"1\" class=\"dataframe\">\n",
       "  <thead>\n",
       "    <tr style=\"text-align: right;\">\n",
       "      <th></th>\n",
       "      <th>PassengerId</th>\n",
       "      <th>Survived</th>\n",
       "      <th>Pclass</th>\n",
       "      <th>Name</th>\n",
       "      <th>Sex</th>\n",
       "      <th>Age</th>\n",
       "      <th>SibSp</th>\n",
       "      <th>Parch</th>\n",
       "      <th>Ticket</th>\n",
       "      <th>Fare</th>\n",
       "      <th>Cabin</th>\n",
       "      <th>Embarked</th>\n",
       "    </tr>\n",
       "  </thead>\n",
       "  <tbody>\n",
       "    <tr>\n",
       "      <th>0</th>\n",
       "      <td>1</td>\n",
       "      <td>0</td>\n",
       "      <td>3</td>\n",
       "      <td>Braund, Mr. Owen Harris</td>\n",
       "      <td>male</td>\n",
       "      <td>22.0</td>\n",
       "      <td>1</td>\n",
       "      <td>0</td>\n",
       "      <td>A/5 21171</td>\n",
       "      <td>7.2500</td>\n",
       "      <td>NaN</td>\n",
       "      <td>S</td>\n",
       "    </tr>\n",
       "    <tr>\n",
       "      <th>1</th>\n",
       "      <td>2</td>\n",
       "      <td>1</td>\n",
       "      <td>1</td>\n",
       "      <td>Cumings, Mrs. John Bradley (Florence Briggs Th...</td>\n",
       "      <td>female</td>\n",
       "      <td>38.0</td>\n",
       "      <td>1</td>\n",
       "      <td>0</td>\n",
       "      <td>PC 17599</td>\n",
       "      <td>71.2833</td>\n",
       "      <td>C85</td>\n",
       "      <td>C</td>\n",
       "    </tr>\n",
       "    <tr>\n",
       "      <th>2</th>\n",
       "      <td>3</td>\n",
       "      <td>1</td>\n",
       "      <td>3</td>\n",
       "      <td>Heikkinen, Miss. Laina</td>\n",
       "      <td>female</td>\n",
       "      <td>26.0</td>\n",
       "      <td>0</td>\n",
       "      <td>0</td>\n",
       "      <td>STON/O2. 3101282</td>\n",
       "      <td>7.9250</td>\n",
       "      <td>NaN</td>\n",
       "      <td>S</td>\n",
       "    </tr>\n",
       "    <tr>\n",
       "      <th>3</th>\n",
       "      <td>4</td>\n",
       "      <td>1</td>\n",
       "      <td>1</td>\n",
       "      <td>Futrelle, Mrs. Jacques Heath (Lily May Peel)</td>\n",
       "      <td>female</td>\n",
       "      <td>35.0</td>\n",
       "      <td>1</td>\n",
       "      <td>0</td>\n",
       "      <td>113803</td>\n",
       "      <td>53.1000</td>\n",
       "      <td>C123</td>\n",
       "      <td>S</td>\n",
       "    </tr>\n",
       "    <tr>\n",
       "      <th>4</th>\n",
       "      <td>5</td>\n",
       "      <td>0</td>\n",
       "      <td>3</td>\n",
       "      <td>Allen, Mr. William Henry</td>\n",
       "      <td>male</td>\n",
       "      <td>35.0</td>\n",
       "      <td>0</td>\n",
       "      <td>0</td>\n",
       "      <td>373450</td>\n",
       "      <td>8.0500</td>\n",
       "      <td>NaN</td>\n",
       "      <td>S</td>\n",
       "    </tr>\n",
       "  </tbody>\n",
       "</table>\n",
       "</div>"
      ],
      "text/plain": [
       "   PassengerId  Survived  Pclass  \\\n",
       "0            1         0       3   \n",
       "1            2         1       1   \n",
       "2            3         1       3   \n",
       "3            4         1       1   \n",
       "4            5         0       3   \n",
       "\n",
       "                                                Name     Sex   Age  SibSp  \\\n",
       "0                            Braund, Mr. Owen Harris    male  22.0      1   \n",
       "1  Cumings, Mrs. John Bradley (Florence Briggs Th...  female  38.0      1   \n",
       "2                             Heikkinen, Miss. Laina  female  26.0      0   \n",
       "3       Futrelle, Mrs. Jacques Heath (Lily May Peel)  female  35.0      1   \n",
       "4                           Allen, Mr. William Henry    male  35.0      0   \n",
       "\n",
       "   Parch            Ticket     Fare Cabin Embarked  \n",
       "0      0         A/5 21171   7.2500   NaN        S  \n",
       "1      0          PC 17599  71.2833   C85        C  \n",
       "2      0  STON/O2. 3101282   7.9250   NaN        S  \n",
       "3      0            113803  53.1000  C123        S  \n",
       "4      0            373450   8.0500   NaN        S  "
      ]
     },
     "execution_count": 4,
     "metadata": {},
     "output_type": "execute_result"
    }
   ],
   "source": [
    "train_df.head(5)"
   ]
  },
  {
   "cell_type": "code",
   "execution_count": 5,
   "metadata": {},
   "outputs": [],
   "source": [
    "# import sys\n",
    "# !conda install --yes --prefix {sys.prefix} pandas"
   ]
  },
  {
   "cell_type": "code",
   "execution_count": 6,
   "metadata": {},
   "outputs": [
    {
     "data": {
      "text/plain": [
       "'0.24.1'"
      ]
     },
     "execution_count": 6,
     "metadata": {},
     "output_type": "execute_result"
    }
   ],
   "source": [
    "type(train_df)\n",
    "pd.__version__"
   ]
  },
  {
   "cell_type": "code",
   "execution_count": 7,
   "metadata": {},
   "outputs": [],
   "source": [
    "#import sys\n",
    "#!conda install --yes --prefix {sys.prefix} keras"
   ]
  },
  {
   "cell_type": "code",
   "execution_count": null,
   "metadata": {
    "collapsed": true
   },
   "outputs": [],
   "source": []
  },
  {
   "cell_type": "code",
   "execution_count": 8,
   "metadata": {},
   "outputs": [
    {
     "data": {
      "text/plain": [
       "PassengerId      0\n",
       "Survived         0\n",
       "Pclass           0\n",
       "Name             0\n",
       "Sex              0\n",
       "Age            177\n",
       "SibSp            0\n",
       "Parch            0\n",
       "Ticket           0\n",
       "Fare             0\n",
       "Cabin          687\n",
       "Embarked         2\n",
       "dtype: int64"
      ]
     },
     "execution_count": 8,
     "metadata": {},
     "output_type": "execute_result"
    }
   ],
   "source": [
    "train_df.isna().sum()"
   ]
  },
  {
   "cell_type": "markdown",
   "metadata": {},
   "source": [
    "### Set 'CABIN' values to 'Yes' or 'No'. If value is NAN the set CABIN is NO else Yes"
   ]
  },
  {
   "cell_type": "code",
   "execution_count": 9,
   "metadata": {
    "collapsed": true
   },
   "outputs": [],
   "source": [
    "def set_Cabin_type(df):\n",
    "    df.loc[(df.Cabin.notnull()), 'Cabin'] = \"Yes\"\n",
    "    df.loc[(df.Cabin.isnull()), 'Cabin'] = \"No\"\n",
    "    return df"
   ]
  },
  {
   "cell_type": "code",
   "execution_count": 10,
   "metadata": {
    "collapsed": true
   },
   "outputs": [],
   "source": [
    "dataset = set_Cabin_type(train_df)"
   ]
  },
  {
   "cell_type": "markdown",
   "metadata": {},
   "source": [
    "### Convert 'CABIN' to dummy variable"
   ]
  },
  {
   "cell_type": "code",
   "execution_count": 11,
   "metadata": {},
   "outputs": [],
   "source": [
    "dataset = pd.get_dummies(dataset, columns=[\"Cabin\"])\n",
    "dataset.drop('Cabin_No', axis=1, inplace=True)"
   ]
  },
  {
   "cell_type": "markdown",
   "metadata": {},
   "source": [
    "### Convert 'SEX' to dummy variable"
   ]
  },
  {
   "cell_type": "code",
   "execution_count": 12,
   "metadata": {
    "collapsed": true
   },
   "outputs": [],
   "source": [
    "dataset = pd.get_dummies(dataset, columns=[\"Sex\"])\n",
    "dataset.drop('Sex_female', axis=1, inplace=True)"
   ]
  },
  {
   "cell_type": "markdown",
   "metadata": {},
   "source": [
    "### Fill NA data with median values"
   ]
  },
  {
   "cell_type": "code",
   "execution_count": 13,
   "metadata": {
    "collapsed": true
   },
   "outputs": [],
   "source": [
    "dataset[\"Age\"].fillna(dataset[\"Age\"].median(skipna=True), inplace=True)\n",
    "dataset[\"Embarked\"].fillna(dataset['Embarked'].value_counts().idxmax(), inplace=True)"
   ]
  },
  {
   "cell_type": "markdown",
   "metadata": {},
   "source": [
    "### Convert dummy variables for 'Embarked' and 'Pclass'"
   ]
  },
  {
   "cell_type": "code",
   "execution_count": 14,
   "metadata": {
    "collapsed": true
   },
   "outputs": [],
   "source": [
    "dataset = pd.get_dummies(dataset, columns=[\"Embarked\"])\n",
    "dataset = pd.get_dummies(dataset, columns=[\"Pclass\"])"
   ]
  },
  {
   "cell_type": "code",
   "execution_count": 15,
   "metadata": {},
   "outputs": [
    {
     "data": {
      "text/html": [
       "<div>\n",
       "<style scoped>\n",
       "    .dataframe tbody tr th:only-of-type {\n",
       "        vertical-align: middle;\n",
       "    }\n",
       "\n",
       "    .dataframe tbody tr th {\n",
       "        vertical-align: top;\n",
       "    }\n",
       "\n",
       "    .dataframe thead th {\n",
       "        text-align: right;\n",
       "    }\n",
       "</style>\n",
       "<table border=\"1\" class=\"dataframe\">\n",
       "  <thead>\n",
       "    <tr style=\"text-align: right;\">\n",
       "      <th></th>\n",
       "      <th>PassengerId</th>\n",
       "      <th>Survived</th>\n",
       "      <th>Name</th>\n",
       "      <th>Age</th>\n",
       "      <th>SibSp</th>\n",
       "      <th>Parch</th>\n",
       "      <th>Ticket</th>\n",
       "      <th>Fare</th>\n",
       "      <th>Cabin_Yes</th>\n",
       "      <th>Sex_male</th>\n",
       "      <th>Embarked_C</th>\n",
       "      <th>Embarked_Q</th>\n",
       "      <th>Embarked_S</th>\n",
       "      <th>Pclass_1</th>\n",
       "      <th>Pclass_2</th>\n",
       "      <th>Pclass_3</th>\n",
       "    </tr>\n",
       "  </thead>\n",
       "  <tbody>\n",
       "    <tr>\n",
       "      <th>0</th>\n",
       "      <td>1</td>\n",
       "      <td>0</td>\n",
       "      <td>Braund, Mr. Owen Harris</td>\n",
       "      <td>22.0</td>\n",
       "      <td>1</td>\n",
       "      <td>0</td>\n",
       "      <td>A/5 21171</td>\n",
       "      <td>7.2500</td>\n",
       "      <td>0</td>\n",
       "      <td>1</td>\n",
       "      <td>0</td>\n",
       "      <td>0</td>\n",
       "      <td>1</td>\n",
       "      <td>0</td>\n",
       "      <td>0</td>\n",
       "      <td>1</td>\n",
       "    </tr>\n",
       "    <tr>\n",
       "      <th>1</th>\n",
       "      <td>2</td>\n",
       "      <td>1</td>\n",
       "      <td>Cumings, Mrs. John Bradley (Florence Briggs Th...</td>\n",
       "      <td>38.0</td>\n",
       "      <td>1</td>\n",
       "      <td>0</td>\n",
       "      <td>PC 17599</td>\n",
       "      <td>71.2833</td>\n",
       "      <td>1</td>\n",
       "      <td>0</td>\n",
       "      <td>1</td>\n",
       "      <td>0</td>\n",
       "      <td>0</td>\n",
       "      <td>1</td>\n",
       "      <td>0</td>\n",
       "      <td>0</td>\n",
       "    </tr>\n",
       "    <tr>\n",
       "      <th>2</th>\n",
       "      <td>3</td>\n",
       "      <td>1</td>\n",
       "      <td>Heikkinen, Miss. Laina</td>\n",
       "      <td>26.0</td>\n",
       "      <td>0</td>\n",
       "      <td>0</td>\n",
       "      <td>STON/O2. 3101282</td>\n",
       "      <td>7.9250</td>\n",
       "      <td>0</td>\n",
       "      <td>0</td>\n",
       "      <td>0</td>\n",
       "      <td>0</td>\n",
       "      <td>1</td>\n",
       "      <td>0</td>\n",
       "      <td>0</td>\n",
       "      <td>1</td>\n",
       "    </tr>\n",
       "  </tbody>\n",
       "</table>\n",
       "</div>"
      ],
      "text/plain": [
       "   PassengerId  Survived                                               Name  \\\n",
       "0            1         0                            Braund, Mr. Owen Harris   \n",
       "1            2         1  Cumings, Mrs. John Bradley (Florence Briggs Th...   \n",
       "2            3         1                             Heikkinen, Miss. Laina   \n",
       "\n",
       "    Age  SibSp  Parch            Ticket     Fare  Cabin_Yes  Sex_male  \\\n",
       "0  22.0      1      0         A/5 21171   7.2500          0         1   \n",
       "1  38.0      1      0          PC 17599  71.2833          1         0   \n",
       "2  26.0      0      0  STON/O2. 3101282   7.9250          0         0   \n",
       "\n",
       "   Embarked_C  Embarked_Q  Embarked_S  Pclass_1  Pclass_2  Pclass_3  \n",
       "0           0           0           1         0         0         1  \n",
       "1           1           0           0         1         0         0  \n",
       "2           0           0           1         0         0         1  "
      ]
     },
     "execution_count": 15,
     "metadata": {},
     "output_type": "execute_result"
    }
   ],
   "source": [
    "dataset.head(3)"
   ]
  },
  {
   "cell_type": "markdown",
   "metadata": {},
   "source": [
    "### Drop colums which do not add any information for prediction"
   ]
  },
  {
   "cell_type": "code",
   "execution_count": 16,
   "metadata": {
    "collapsed": true
   },
   "outputs": [],
   "source": [
    "dataset.drop('Name', axis=1, inplace=True)\n",
    "dataset.drop('PassengerId', axis=1, inplace=True)\n",
    "dataset.drop('Ticket', axis=1, inplace=True)"
   ]
  },
  {
   "cell_type": "code",
   "execution_count": 17,
   "metadata": {
    "collapsed": true
   },
   "outputs": [],
   "source": [
    "X = dataset.iloc[:, 1:12].values\n",
    "y = dataset.iloc[:,0].values"
   ]
  },
  {
   "cell_type": "markdown",
   "metadata": {},
   "source": [
    "### Split train and test using sklearn library"
   ]
  },
  {
   "cell_type": "code",
   "execution_count": 18,
   "metadata": {
    "collapsed": true
   },
   "outputs": [],
   "source": [
    "from sklearn.model_selection import train_test_split\n",
    "X_train, X_test, y_train, y_test = train_test_split(X, y, test_size = 0.2, random_state = 0)"
   ]
  },
  {
   "cell_type": "markdown",
   "metadata": {},
   "source": [
    "###  Importing the Keras libraries and packages"
   ]
  },
  {
   "cell_type": "code",
   "execution_count": 19,
   "metadata": {},
   "outputs": [
    {
     "name": "stderr",
     "output_type": "stream",
     "text": [
      "/home/tparamas/anaconda3/lib/python3.6/site-packages/h5py/__init__.py:34: FutureWarning: Conversion of the second argument of issubdtype from `float` to `np.floating` is deprecated. In future, it will be treated as `np.float64 == np.dtype(float).type`.\n",
      "  from ._conv import register_converters as _register_converters\n",
      "Using TensorFlow backend.\n"
     ]
    }
   ],
   "source": [
    "import keras\n",
    "from keras.models import Sequential\n",
    "from keras.layers import Dense"
   ]
  },
  {
   "cell_type": "code",
   "execution_count": 20,
   "metadata": {},
   "outputs": [
    {
     "name": "stdout",
     "output_type": "stream",
     "text": [
      "Epoch 1/100\n",
      "712/712 [==============================] - 0s 317us/step - loss: 0.6904 - acc: 0.6166\n",
      "Epoch 2/100\n",
      "712/712 [==============================] - 0s 80us/step - loss: 0.6798 - acc: 0.6166\n",
      "Epoch 3/100\n",
      "712/712 [==============================] - 0s 86us/step - loss: 0.6574 - acc: 0.6447\n",
      "Epoch 4/100\n",
      "712/712 [==============================] - 0s 83us/step - loss: 0.6315 - acc: 0.6475\n",
      "Epoch 5/100\n",
      "712/712 [==============================] - 0s 68us/step - loss: 0.6147 - acc: 0.6601\n",
      "Epoch 6/100\n",
      "712/712 [==============================] - 0s 70us/step - loss: 0.6059 - acc: 0.6742\n",
      "Epoch 7/100\n",
      "712/712 [==============================] - 0s 81us/step - loss: 0.6013 - acc: 0.6728\n",
      "Epoch 8/100\n",
      "712/712 [==============================] - 0s 79us/step - loss: 0.5971 - acc: 0.6798\n",
      "Epoch 9/100\n",
      "712/712 [==============================] - 0s 87us/step - loss: 0.5922 - acc: 0.6798\n",
      "Epoch 10/100\n",
      "712/712 [==============================] - 0s 80us/step - loss: 0.5858 - acc: 0.6882\n",
      "Epoch 11/100\n",
      "712/712 [==============================] - 0s 80us/step - loss: 0.5793 - acc: 0.6896\n",
      "Epoch 12/100\n",
      "712/712 [==============================] - 0s 64us/step - loss: 0.5744 - acc: 0.7065\n",
      "Epoch 13/100\n",
      "712/712 [==============================] - 0s 66us/step - loss: 0.5630 - acc: 0.7093\n",
      "Epoch 14/100\n",
      "712/712 [==============================] - 0s 72us/step - loss: 0.5531 - acc: 0.7149\n",
      "Epoch 15/100\n",
      "712/712 [==============================] - 0s 72us/step - loss: 0.5446 - acc: 0.7191\n",
      "Epoch 16/100\n",
      "712/712 [==============================] - 0s 69us/step - loss: 0.5413 - acc: 0.7191\n",
      "Epoch 17/100\n",
      "712/712 [==============================] - 0s 69us/step - loss: 0.5333 - acc: 0.7317\n",
      "Epoch 18/100\n",
      "712/712 [==============================] - 0s 74us/step - loss: 0.5232 - acc: 0.7360\n",
      "Epoch 19/100\n",
      "712/712 [==============================] - 0s 74us/step - loss: 0.5206 - acc: 0.7514\n",
      "Epoch 20/100\n",
      "712/712 [==============================] - 0s 62us/step - loss: 0.5150 - acc: 0.7669\n",
      "Epoch 21/100\n",
      "712/712 [==============================] - 0s 58us/step - loss: 0.5118 - acc: 0.7556\n",
      "Epoch 22/100\n",
      "712/712 [==============================] - 0s 56us/step - loss: 0.5129 - acc: 0.7612\n",
      "Epoch 23/100\n",
      "712/712 [==============================] - 0s 62us/step - loss: 0.5085 - acc: 0.7711\n",
      "Epoch 24/100\n",
      "712/712 [==============================] - 0s 73us/step - loss: 0.5022 - acc: 0.7753\n",
      "Epoch 25/100\n",
      "712/712 [==============================] - 0s 67us/step - loss: 0.4931 - acc: 0.7865\n",
      "Epoch 26/100\n",
      "712/712 [==============================] - 0s 62us/step - loss: 0.4914 - acc: 0.7935\n",
      "Epoch 27/100\n",
      "712/712 [==============================] - 0s 69us/step - loss: 0.4913 - acc: 0.7879\n",
      "Epoch 28/100\n",
      "712/712 [==============================] - 0s 64us/step - loss: 0.4946 - acc: 0.7879\n",
      "Epoch 29/100\n",
      "712/712 [==============================] - 0s 62us/step - loss: 0.4807 - acc: 0.7963\n",
      "Epoch 30/100\n",
      "712/712 [==============================] - 0s 68us/step - loss: 0.4821 - acc: 0.7978\n",
      "Epoch 31/100\n",
      "712/712 [==============================] - 0s 65us/step - loss: 0.4770 - acc: 0.7921\n",
      "Epoch 32/100\n",
      "712/712 [==============================] - 0s 67us/step - loss: 0.4759 - acc: 0.7992\n",
      "Epoch 33/100\n",
      "712/712 [==============================] - 0s 60us/step - loss: 0.4697 - acc: 0.8076\n",
      "Epoch 34/100\n",
      "712/712 [==============================] - 0s 56us/step - loss: 0.4643 - acc: 0.8160\n",
      "Epoch 35/100\n",
      "712/712 [==============================] - 0s 52us/step - loss: 0.4719 - acc: 0.8062\n",
      "Epoch 36/100\n",
      "712/712 [==============================] - 0s 48us/step - loss: 0.4623 - acc: 0.8090\n",
      "Epoch 37/100\n",
      "712/712 [==============================] - 0s 51us/step - loss: 0.4704 - acc: 0.7992\n",
      "Epoch 38/100\n",
      "712/712 [==============================] - 0s 49us/step - loss: 0.4566 - acc: 0.8160\n",
      "Epoch 39/100\n",
      "712/712 [==============================] - 0s 49us/step - loss: 0.4550 - acc: 0.8146\n",
      "Epoch 40/100\n",
      "712/712 [==============================] - 0s 49us/step - loss: 0.4519 - acc: 0.8160\n",
      "Epoch 41/100\n",
      "712/712 [==============================] - 0s 49us/step - loss: 0.4547 - acc: 0.8132\n",
      "Epoch 42/100\n",
      "712/712 [==============================] - 0s 52us/step - loss: 0.4650 - acc: 0.8076\n",
      "Epoch 43/100\n",
      "712/712 [==============================] - 0s 49us/step - loss: 0.4529 - acc: 0.8062\n",
      "Epoch 44/100\n",
      "712/712 [==============================] - 0s 51us/step - loss: 0.4528 - acc: 0.8104\n",
      "Epoch 45/100\n",
      "712/712 [==============================] - 0s 52us/step - loss: 0.4521 - acc: 0.8104\n",
      "Epoch 46/100\n",
      "712/712 [==============================] - 0s 57us/step - loss: 0.4501 - acc: 0.8048\n",
      "Epoch 47/100\n",
      "712/712 [==============================] - 0s 57us/step - loss: 0.4529 - acc: 0.8034\n",
      "Epoch 48/100\n",
      "712/712 [==============================] - 0s 73us/step - loss: 0.4415 - acc: 0.8160\n",
      "Epoch 49/100\n",
      "712/712 [==============================] - 0s 59us/step - loss: 0.4420 - acc: 0.8104\n",
      "Epoch 50/100\n",
      "712/712 [==============================] - 0s 54us/step - loss: 0.4439 - acc: 0.8188\n",
      "Epoch 51/100\n",
      "712/712 [==============================] - 0s 58us/step - loss: 0.4483 - acc: 0.8006\n",
      "Epoch 52/100\n",
      "712/712 [==============================] - 0s 62us/step - loss: 0.4429 - acc: 0.8174\n",
      "Epoch 53/100\n",
      "712/712 [==============================] - 0s 65us/step - loss: 0.4382 - acc: 0.8188\n",
      "Epoch 54/100\n",
      "712/712 [==============================] - 0s 74us/step - loss: 0.4389 - acc: 0.8160\n",
      "Epoch 55/100\n",
      "712/712 [==============================] - 0s 68us/step - loss: 0.4417 - acc: 0.8020\n",
      "Epoch 56/100\n",
      "712/712 [==============================] - 0s 70us/step - loss: 0.4376 - acc: 0.8118\n",
      "Epoch 57/100\n",
      "712/712 [==============================] - 0s 60us/step - loss: 0.4410 - acc: 0.8118\n",
      "Epoch 58/100\n",
      "712/712 [==============================] - 0s 59us/step - loss: 0.4371 - acc: 0.8160\n",
      "Epoch 59/100\n",
      "712/712 [==============================] - 0s 57us/step - loss: 0.4369 - acc: 0.8090\n",
      "Epoch 60/100\n",
      "712/712 [==============================] - 0s 64us/step - loss: 0.4371 - acc: 0.8104\n",
      "Epoch 61/100\n",
      "712/712 [==============================] - 0s 57us/step - loss: 0.4365 - acc: 0.8160\n",
      "Epoch 62/100\n",
      "712/712 [==============================] - 0s 62us/step - loss: 0.4355 - acc: 0.8174\n",
      "Epoch 63/100\n",
      "712/712 [==============================] - 0s 52us/step - loss: 0.4444 - acc: 0.8118\n",
      "Epoch 64/100\n",
      "712/712 [==============================] - 0s 62us/step - loss: 0.4802 - acc: 0.7963\n",
      "Epoch 65/100\n",
      "712/712 [==============================] - 0s 55us/step - loss: 0.4383 - acc: 0.8160\n",
      "Epoch 66/100\n",
      "712/712 [==============================] - 0s 67us/step - loss: 0.4469 - acc: 0.8006\n",
      "Epoch 67/100\n",
      "712/712 [==============================] - 0s 78us/step - loss: 0.4420 - acc: 0.8132\n",
      "Epoch 68/100\n",
      "712/712 [==============================] - 0s 83us/step - loss: 0.4331 - acc: 0.8160\n",
      "Epoch 69/100\n",
      "712/712 [==============================] - 0s 84us/step - loss: 0.4358 - acc: 0.8132\n",
      "Epoch 70/100\n",
      "712/712 [==============================] - 0s 84us/step - loss: 0.4348 - acc: 0.8104\n",
      "Epoch 71/100\n",
      "712/712 [==============================] - 0s 81us/step - loss: 0.4337 - acc: 0.8118\n",
      "Epoch 72/100\n",
      "712/712 [==============================] - 0s 68us/step - loss: 0.4361 - acc: 0.8160\n",
      "Epoch 73/100\n",
      "712/712 [==============================] - 0s 65us/step - loss: 0.4363 - acc: 0.8160\n",
      "Epoch 74/100\n",
      "712/712 [==============================] - 0s 57us/step - loss: 0.4378 - acc: 0.8160\n",
      "Epoch 75/100\n",
      "712/712 [==============================] - 0s 55us/step - loss: 0.4352 - acc: 0.8188\n",
      "Epoch 76/100\n",
      "712/712 [==============================] - 0s 62us/step - loss: 0.4384 - acc: 0.8132\n",
      "Epoch 77/100\n",
      "712/712 [==============================] - 0s 73us/step - loss: 0.4319 - acc: 0.8118\n",
      "Epoch 78/100\n",
      "712/712 [==============================] - 0s 62us/step - loss: 0.4287 - acc: 0.8188\n",
      "Epoch 79/100\n",
      "712/712 [==============================] - 0s 77us/step - loss: 0.4326 - acc: 0.8118\n",
      "Epoch 80/100\n",
      "712/712 [==============================] - 0s 83us/step - loss: 0.4300 - acc: 0.8230\n",
      "Epoch 81/100\n",
      "712/712 [==============================] - 0s 72us/step - loss: 0.4321 - acc: 0.8160\n",
      "Epoch 82/100\n",
      "712/712 [==============================] - 0s 81us/step - loss: 0.4387 - acc: 0.8104\n",
      "Epoch 83/100\n",
      "712/712 [==============================] - 0s 77us/step - loss: 0.4388 - acc: 0.8076\n",
      "Epoch 84/100\n"
     ]
    },
    {
     "name": "stdout",
     "output_type": "stream",
     "text": [
      "712/712 [==============================] - 0s 78us/step - loss: 0.4285 - acc: 0.8202\n",
      "Epoch 85/100\n",
      "712/712 [==============================] - 0s 70us/step - loss: 0.4317 - acc: 0.8132\n",
      "Epoch 86/100\n",
      "712/712 [==============================] - 0s 77us/step - loss: 0.4350 - acc: 0.8104\n",
      "Epoch 87/100\n",
      "712/712 [==============================] - 0s 67us/step - loss: 0.4372 - acc: 0.8132\n",
      "Epoch 88/100\n",
      "712/712 [==============================] - 0s 74us/step - loss: 0.4287 - acc: 0.8132\n",
      "Epoch 89/100\n",
      "712/712 [==============================] - 0s 72us/step - loss: 0.4286 - acc: 0.8230\n",
      "Epoch 90/100\n",
      "712/712 [==============================] - 0s 84us/step - loss: 0.4263 - acc: 0.8118\n",
      "Epoch 91/100\n",
      "712/712 [==============================] - 0s 69us/step - loss: 0.4327 - acc: 0.8132\n",
      "Epoch 92/100\n",
      "712/712 [==============================] - 0s 78us/step - loss: 0.4384 - acc: 0.8146\n",
      "Epoch 93/100\n",
      "712/712 [==============================] - 0s 73us/step - loss: 0.4434 - acc: 0.8048\n",
      "Epoch 94/100\n",
      "712/712 [==============================] - 0s 85us/step - loss: 0.4279 - acc: 0.8244\n",
      "Epoch 95/100\n",
      "712/712 [==============================] - 0s 82us/step - loss: 0.4267 - acc: 0.8118\n",
      "Epoch 96/100\n",
      "712/712 [==============================] - 0s 78us/step - loss: 0.4281 - acc: 0.8132\n",
      "Epoch 97/100\n",
      "712/712 [==============================] - 0s 80us/step - loss: 0.4262 - acc: 0.8160\n",
      "Epoch 98/100\n",
      "712/712 [==============================] - 0s 85us/step - loss: 0.4275 - acc: 0.8202\n",
      "Epoch 99/100\n",
      "712/712 [==============================] - 0s 79us/step - loss: 0.4246 - acc: 0.8188\n",
      "Epoch 100/100\n",
      "712/712 [==============================] - 0s 85us/step - loss: 0.4252 - acc: 0.8230\n"
     ]
    },
    {
     "data": {
      "text/plain": [
       "<keras.callbacks.History at 0x7f9f3e6d05f8>"
      ]
     },
     "execution_count": 20,
     "metadata": {},
     "output_type": "execute_result"
    }
   ],
   "source": [
    "# Initialising the ANN\n",
    "classifier = Sequential()\n",
    "\n",
    "# Adding the input layer and the first hidden layer\n",
    "classifier.add(Dense(units = 6, kernel_initializer = 'uniform', activation = 'relu', input_dim = 11))\n",
    "\n",
    "# Adding the second hidden layer\n",
    "classifier.add(Dense(units = 6, kernel_initializer = 'uniform', activation = 'relu'))\n",
    "\n",
    "# Adding the output layer\n",
    "classifier.add(Dense(units = 1, kernel_initializer = 'uniform', activation = 'sigmoid'))\n",
    "\n",
    "# Compiling the ANN\n",
    "classifier.compile(optimizer = 'adam', loss = 'binary_crossentropy', metrics = ['accuracy'])\n",
    "\n",
    "# Fitting the ANN to the Training set\n",
    "classifier.fit(X_train, y_train, batch_size = 20, epochs = 100)"
   ]
  },
  {
   "cell_type": "raw",
   "metadata": {},
   "source": [
    "kernel_initializer - Defines the way to set the initial random weights of Keras layers.\n",
    "activation - activation function is used to intoduce non-linear nature to data.\n",
    "optimizer - Optimazation function like Stocastic GD,adam,RMSprop etc"
   ]
  },
  {
   "cell_type": "code",
   "execution_count": 21,
   "metadata": {
    "collapsed": true
   },
   "outputs": [],
   "source": [
    "y_pred = classifier.predict(X_test)"
   ]
  },
  {
   "cell_type": "code",
   "execution_count": 22,
   "metadata": {},
   "outputs": [
    {
     "data": {
      "text/plain": [
       "0.8156424581005587"
      ]
     },
     "execution_count": 22,
     "metadata": {},
     "output_type": "execute_result"
    }
   ],
   "source": [
    "y_pred1 = (y_pred > 0.5)\n",
    "score = metrics.accuracy_score(y_test, y_pred1)\n",
    "score"
   ]
  },
  {
   "cell_type": "code",
   "execution_count": null,
   "metadata": {
    "collapsed": true
   },
   "outputs": [],
   "source": []
  }
 ],
 "metadata": {
  "kernelspec": {
   "display_name": "Python 3",
   "language": "python",
   "name": "python3"
  },
  "language_info": {
   "codemirror_mode": {
    "name": "ipython",
    "version": 3
   },
   "file_extension": ".py",
   "mimetype": "text/x-python",
   "name": "python",
   "nbconvert_exporter": "python",
   "pygments_lexer": "ipython3",
   "version": "3.6.8"
  }
 },
 "nbformat": 4,
 "nbformat_minor": 2
}
